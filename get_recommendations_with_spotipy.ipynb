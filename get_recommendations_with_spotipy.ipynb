{
 "cells": [
  {
   "cell_type": "markdown",
   "id": "cda7e97a-ef6a-4bf3-9af4-56f057e74cad",
   "metadata": {},
   "source": [
    "# Spotipy - get_recommendations function"
   ]
  },
  {
   "cell_type": "markdown",
   "id": "6cb295e4-b763-470f-b491-81ef791b54ad",
   "metadata": {},
   "source": [
    "#### Connect to the Spotify Web API and get the 'client_id' and 'client_secret_key' needed to access the API. "
   ]
  },
  {
   "cell_type": "code",
   "execution_count": 4,
   "id": "f0800d1c-af72-4f24-bc1a-1a0ba625c37a",
   "metadata": {},
   "outputs": [],
   "source": [
    "# Import all libraries used throughout the notebook\n",
    "\n",
    "import os \n",
    "from dotenv import load_dotenv\n",
    "import spotipy \n",
    "from spotipy.oauth2 import SpotifyOAuth\n",
    "from requests import post\n",
    "import base64\n",
    "import json\n",
    "from IPython.display import Image\n",
    "import pandas as pd"
   ]
  },
  {
   "cell_type": "code",
   "execution_count": 5,
   "id": "785f687e-4f6a-401a-ad82-0f8cf56150f3",
   "metadata": {},
   "outputs": [],
   "source": [
    "# Construct variables to hold access credentials needed in order to connect \n",
    "# with the SpotifY API\n",
    "\n",
    "\n",
    "# Create a local .env file, to create and hold 'my client_id' and 'client_secret_id' \n",
    "# variables\n",
    "\n",
    "load_dotenv()\n",
    "\n",
    "my_id = os.getenv(\"my_id\")\n",
    "my_secret_key = os.getenv(\"my_secret_id\")\n",
    "redirect_uri = \"http://localhost:3000\"\n",
    "\n",
    "# Authenticate with Spotify\n",
    "sp = spotipy.Spotify(auth_manager = SpotifyOAuth(client_id = my_id,\n",
    "                                               client_secret = my_secret_key,\n",
    "                                               redirect_uri = redirect_uri,\n",
    "                                               scope = \"playlist-read-private\"))"
   ]
  },
  {
   "cell_type": "code",
   "execution_count": null,
   "id": "bc17f2b8-546e-4376-a2d2-e2dfab44aa73",
   "metadata": {},
   "outputs": [],
   "source": []
  }
 ],
 "metadata": {
  "kernelspec": {
   "display_name": "Python 3 (ipykernel)",
   "language": "python",
   "name": "python3"
  },
  "language_info": {
   "codemirror_mode": {
    "name": "ipython",
    "version": 3
   },
   "file_extension": ".py",
   "mimetype": "text/x-python",
   "name": "python",
   "nbconvert_exporter": "python",
   "pygments_lexer": "ipython3",
   "version": "3.11.5"
  }
 },
 "nbformat": 4,
 "nbformat_minor": 5
}
